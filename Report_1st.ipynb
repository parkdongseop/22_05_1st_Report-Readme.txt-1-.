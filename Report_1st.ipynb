{
  "nbformat": 4,
  "nbformat_minor": 0,
  "metadata": {
    "colab": {
      "provenance": [],
      "authorship_tag": "ABX9TyOFYgZ7NUrhlKmsoi6lbRw5",
      "include_colab_link": true
    },
    "kernelspec": {
      "name": "python3",
      "display_name": "Python 3"
    },
    "language_info": {
      "name": "python"
    }
  },
  "cells": [
    {
      "cell_type": "markdown",
      "metadata": {
        "id": "view-in-github",
        "colab_type": "text"
      },
      "source": [
        "<a href=\"https://colab.research.google.com/github/parkdongseop/22_05_1st_Report-Readme.txt-1-./blob/main/Report_1st.ipynb\" target=\"_parent\"><img src=\"https://colab.research.google.com/assets/colab-badge.svg\" alt=\"Open In Colab\"/></a>"
      ]
    },
    {
      "cell_type": "code",
      "execution_count": null,
      "metadata": {
        "colab": {
          "base_uri": "https://localhost:8080/"
        },
        "id": "jDSXck5Wpq04",
        "outputId": "7708f72e-6d09-42d0-d853-67f76b971902"
      },
      "outputs": [
        {
          "output_type": "stream",
          "name": "stdout",
          "text": [
            "환영합니다.\n",
            "파이썬의 세계에 오신 것을 환영합니다.\n",
            "파이썬은 강력합니다.\n"
          ]
        }
      ],
      "source": [
        "print(\"환영합니다.\") #문자열 출력\n",
        "print(\"파이썬의 세계에 오신 것을 환영합니다.\") \n",
        "print(\"파이썬은 강력합니다.\")\n"
      ]
    },
    {
      "cell_type": "code",
      "source": [
        "print(\"반갑습니다. 파이썬!\")\n",
        "print(2*3/10) #숫자열 출력\n",
        "print(\"Hello\", \"World\", \"!!!\")"
      ],
      "metadata": {
        "colab": {
          "base_uri": "https://localhost:8080/"
        },
        "id": "lZrTd2dKqvFR",
        "outputId": "1e14cba9-3e4b-4203-d74d-ca08a86bd7e8"
      },
      "execution_count": null,
      "outputs": [
        {
          "output_type": "stream",
          "name": "stdout",
          "text": [
            "반갑습니다. 파이썬!\n",
            "0.6\n",
            "Hello World !!!\n"
          ]
        }
      ]
    },
    {
      "cell_type": "markdown",
      "source": [
        "반갑습니다. 파이썬!\n",
        "0.6\n",
        "Hello World !!!"
      ],
      "metadata": {
        "id": "oNoWQzVRrYLo"
      }
    },
    {
      "cell_type": "code",
      "source": [
        "print(7*24,\"시간\")"
      ],
      "metadata": {
        "colab": {
          "base_uri": "https://localhost:8080/"
        },
        "id": "lLfUXKp1rmVB",
        "outputId": "b59943d1-c347-44f1-ba1e-66852cf44ebd"
      },
      "execution_count": null,
      "outputs": [
        {
          "output_type": "stream",
          "name": "stdout",
          "text": [
            "168 시간\n"
          ]
        }
      ]
    },
    {
      "cell_type": "code",
      "source": [
        "from turtle import Turtle, Screen #turtle 모듈을 불러오고 turtle 생략\n",
        "\n",
        "timmy = Turtle() \n",
        "timmy.shape(\"turtle\") #turtle모듈의 아이콘을 거북이 모양으로 바꿈\n",
        "screen = Screen() #스크린 객체생성\n",
        "\n",
        "timmy.forward(100) #거북이 머리 방향으로 100만큼 이동\n",
        "timmy.left(90) #거북이 머리 방향에서 왼쪽으로 90도 회전\n",
        "timmy.forward(100)\n",
        "timmy.right(90) #거북이 머리 방향에서 오른쪽으로 90도 회전\n",
        "timmy.forward(100)\n",
        "timmy.right(90)\n",
        "timmy.forward(100)\n",
        "timmy.left(90)\n",
        "timmy.forward(100)\n",
        "screen.exitonclick() #화면 클릭 시 종료 함수"
      ],
      "metadata": {
        "id": "pAsKNgfW1WkP"
      },
      "execution_count": null,
      "outputs": []
    }
  ]
}