{
  "nbformat": 4,
  "nbformat_minor": 0,
  "metadata": {
    "colab": {
      "provenance": [],
      "authorship_tag": "ABX9TyM1Fy20xRo2qlu4iQdg5hsX",
      "include_colab_link": true
    },
    "kernelspec": {
      "name": "python3",
      "display_name": "Python 3"
    },
    "language_info": {
      "name": "python"
    }
  },
  "cells": [
    {
      "cell_type": "markdown",
      "metadata": {
        "id": "view-in-github",
        "colab_type": "text"
      },
      "source": [
        "<a href=\"https://colab.research.google.com/github/parkdongseop/22_05_1st_Report-Readme.txt-1-./blob/main/Report_1st.ipynb\" target=\"_parent\"><img src=\"https://colab.research.google.com/assets/colab-badge.svg\" alt=\"Open In Colab\"/></a>"
      ]
    },
    {
      "cell_type": "code",
      "execution_count": 1,
      "metadata": {
        "colab": {
          "base_uri": "https://localhost:8080/"
        },
        "id": "jDSXck5Wpq04",
        "outputId": "7708f72e-6d09-42d0-d853-67f76b971902"
      },
      "outputs": [
        {
          "output_type": "stream",
          "name": "stdout",
          "text": [
            "환영합니다.\n",
            "파이썬의 세계에 오신 것을 환영합니다.\n",
            "파이썬은 강력합니다.\n"
          ]
        }
      ],
      "source": [
        "print(\"환영합니다.\")\n",
        "print(\"파이썬의 세계에 오신 것을 환영합니다.\")\n",
        "print(\"파이썬은 강력합니다.\")\n"
      ]
    },
    {
      "cell_type": "code",
      "source": [
        "print(\"반갑습니다. 파이썬!\")\n",
        "print(2*3/10)\n",
        "print(\"Hello\", \"World\", \"!!!\")"
      ],
      "metadata": {
        "colab": {
          "base_uri": "https://localhost:8080/"
        },
        "id": "lZrTd2dKqvFR",
        "outputId": "1e14cba9-3e4b-4203-d74d-ca08a86bd7e8"
      },
      "execution_count": 3,
      "outputs": [
        {
          "output_type": "stream",
          "name": "stdout",
          "text": [
            "반갑습니다. 파이썬!\n",
            "0.6\n",
            "Hello World !!!\n"
          ]
        }
      ]
    },
    {
      "cell_type": "markdown",
      "source": [
        "반갑습니다. 파이썬!\n",
        "0.6\n",
        "Hello World !!!"
      ],
      "metadata": {
        "id": "oNoWQzVRrYLo"
      }
    },
    {
      "cell_type": "code",
      "source": [
        "print(7*24,\"시간\")"
      ],
      "metadata": {
        "colab": {
          "base_uri": "https://localhost:8080/"
        },
        "id": "lLfUXKp1rmVB",
        "outputId": "b59943d1-c347-44f1-ba1e-66852cf44ebd"
      },
      "execution_count": 5,
      "outputs": [
        {
          "output_type": "stream",
          "name": "stdout",
          "text": [
            "168 시간\n"
          ]
        }
      ]
    },
    {
      "cell_type": "code",
      "source": [
        "from turtle import Turtle, Screen\n",
        "\n",
        "timmy = Turtle()\n",
        "timmy.shape(\"turtle\")\n",
        "screen = Screen()\n",
        "\n",
        "timmy.forward(100)\n",
        "timmy.left(90)\n",
        "timmy.forward(100)\n",
        "timmy.right(90)\n",
        "timmy.forward(100)\n",
        "timmy.right(90)\n",
        "timmy.forward(100)\n",
        "timmy.left(90)\n",
        "timmy.forward(100)\n",
        "screen.exitonclick()"
      ],
      "metadata": {
        "id": "pAsKNgfW1WkP"
      },
      "execution_count": null,
      "outputs": []
    }
  ]
}